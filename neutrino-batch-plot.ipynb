{
 "cells": [
  {
   "cell_type": "code",
   "execution_count": 65,
   "metadata": {
    "collapsed": false
   },
   "outputs": [],
   "source": [
    "from scipy import *\n",
    "from scipy import optimize\n",
    "\n",
    "###########################################################\n",
    "######## neutrino mass splitting calculation ##############\n",
    "###########################################################\n",
    "\n",
    "#### delta m21^2=7.37e-5\n",
    "#### |delta m^2| = 2.5e-3 (normal) 2.46e-3 (inverted)\n",
    "d31N = 2.5e-3\n",
    "d31I = 2.46e-3\n",
    "d21 = 7.37e-5\n",
    "\n",
    "m2fcn = lambda m1: sqrt(d21 + m1**2)\n",
    "m3_NH = lambda m1: sqrt(d31N + 0.5*m2fcn(m1)**2 +0.5*m1**2)\n",
    "m3_IH = lambda m1: sqrt(0.5*m2fcn(m1)**2 +0.5*m1**2 - d31I)\n",
    "root_NH = lambda m1, M: M-(m1+m2fcn(m1)+m3_NH(m1))\n",
    "root_IH = lambda m1, M: M-(m1+m2fcn(m1)+m3_IH(m1))\n",
    "\n",
    "Mmin_NH = sqrt(d21)+sqrt(d31N+d21/2)\n",
    "Mmin_IH = sqrt(d31I-0.5*d21) + sqrt(d31I+0.5*d21)\n",
    "m1min_IH = sqrt(d31I-0.5*d21)\n",
    "\n",
    "def neutrino_mass_calc (M, split=1):\n",
    "    '''split = 1, 2, 3 for normal, inverted, degenerate\n",
    "    '''    \n",
    "    #print M\n",
    "    if split == 1:\n",
    "        m1=optimize.bisect(root_NH, 0, M, args=(M,))       \n",
    "        m2=m2fcn(m1)\n",
    "        m3=m3_NH(m1)\n",
    "    elif split == 2:\n",
    "        m1=optimize.bisect(root_IH, m1min_IH, M, args=(M,))\n",
    "        m2=m2fcn(m1)\n",
    "        m3=m3_IH(m1)\n",
    "    elif split ==3:\n",
    "        m1, m2, m3 = ones(3)*M/3.0\n",
    "    return m1,m2,m3"
   ]
  },
  {
   "cell_type": "code",
   "execution_count": 85,
   "metadata": {
    "collapsed": false
   },
   "outputs": [
    {
     "data": {
      "image/png": "[encoded data removed]",
      "text/plain": [
       "<matplotlib.figure.Figure at 0x10f0d9d90>"
      ]
     },
     "metadata": {},
     "output_type": "display_data"
    }
   ],
   "source": [
    "M_NH_arr = logspace(log10(Mmin_NH), 0, 101)\n",
    "M_IH_arr = logspace(log10(Mmin_IH), 0, 101)\n",
    "\n",
    "mlight_NH = array([neutrino_mass_calc (iM, split=1) for iM in M_NH_arr])\n",
    "mlight_IH = array([neutrino_mass_calc (iM, split=2) for iM in M_IH_arr])\n",
    "loglog(amin(mlight_NH,axis=1), M_NH_arr,'r.',label='Normal')\n",
    "loglog(amin(mlight_IH,axis=1), M_IH_arr,'c.',label='inverted')\n",
    "xlabel('m_lightest (eV)')\n",
    "ylabel('Sum M (eV)')\n",
    "ylim(5e-2, 1)\n",
    "xlim(1e-3, 0.3)\n",
    "legend(loc=0)\n",
    "show()"
   ]
  },
  {
   "cell_type": "code",
   "execution_count": null,
   "metadata": {
    "collapsed": true
   },
   "outputs": [],
   "source": []
  }
 ],
 "metadata": {
  "anaconda-cloud": {},
  "kernelspec": {
   "display_name": "Python [default]",
   "language": "python",
   "name": "python2"
  },
  "language_info": {
   "codemirror_mode": {
    "name": "ipython",
    "version": 2
   },
   "file_extension": ".py",
   "mimetype": "text/x-python",
   "name": "python",
   "nbconvert_exporter": "python",
   "pygments_lexer": "ipython2",
   "version": "2.7.12"
  }
 },
 "nbformat": 4,
 "nbformat_minor": 1
}
